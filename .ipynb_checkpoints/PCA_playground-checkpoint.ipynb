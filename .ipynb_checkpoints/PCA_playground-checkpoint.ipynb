{
 "cells": [
  {
   "cell_type": "code",
   "execution_count": 371,
   "metadata": {},
   "outputs": [
    {
     "data": {
      "text/plain": [
       "array([[ 8.91777803e-01, -2.89555953e-02,  3.26171724e-02,\n",
       "        -3.51174881e-02, -4.48991750e-01,  9.38017336e-05,\n",
       "         0.00000000e+00,  0.00000000e+00,  0.00000000e+00],\n",
       "       [ 4.45888901e-01, -1.44777976e-02,  1.63085862e-02,\n",
       "        -1.75587440e-02,  8.89489901e-01, -9.96894629e-02,\n",
       "         0.00000000e+00,  0.00000000e+00,  0.00000000e+00],\n",
       "       [ 7.16052240e-02,  7.13176331e-01, -3.58648763e-01,\n",
       "         3.28819525e-01,  4.24679995e-02,  4.97509297e-01,\n",
       "         0.00000000e+00,  0.00000000e+00,  0.00000000e+00],\n",
       "       [-8.92906260e-03,  2.18580777e-02, -5.50107977e-02,\n",
       "        -8.64242622e-01,  4.24679995e-02,  4.97509297e-01,\n",
       "         0.00000000e+00,  0.00000000e+00,  0.00000000e+00]])"
      ]
     },
     "execution_count": 371,
     "metadata": {},
     "output_type": "execute_result"
    }
   ],
   "source": [
    "import numpy as np\n",
    "\n",
    "v1 = np.array([10,5,1,1,1,1,1,1,1])\n",
    "v2 = np.array([20,10,1,2,1,1,1,1,1])\n",
    "v3 = np.array([30,15,1,1,3,1,1,1,1])\n",
    "v4 = np.array([40,20,1,1,1,4,1,1,1])\n",
    "v5 = np.array([50,25,5,1,1,1,1,1,1])\n",
    "\n",
    "M = np.array([v1,v2,v3,v4,v5]).T\n",
    "S = np.cov(M)\n",
    "\n",
    "eigenValues, eigenVectors = np.linalg.eig(S)\n",
    "\n",
    "idx = eigenValues.argsort()[::-1]   \n",
    "eigvals0 = eigenValues[idx]\n",
    "eigvecs0 = eigenVectors[:,idx]\n",
    "\n",
    "eigvecs0[:4]"
   ]
  },
  {
   "cell_type": "code",
   "execution_count": 372,
   "metadata": {},
   "outputs": [
    {
     "data": {
      "text/plain": [
       "array([[-2.06485322e-01, -1.03242661e-01,  3.58726181e-02,\n",
       "        -8.57389767e-03,  8.66773650e-03, -5.66149891e-02,\n",
       "         0.00000000e+00,  0.00000000e+00,  0.00000000e+00],\n",
       "       [ 3.47096044e+00,  1.73548022e+00,  1.44500199e-01,\n",
       "        -1.19634113e-01, -1.25558041e-01,  4.47787999e-01,\n",
       "         0.00000000e+00,  0.00000000e+00,  0.00000000e+00],\n",
       "       [ 3.35572995e+00,  1.67786497e+00,  1.02353649e+00,\n",
       "         7.61618369e-02, -7.42184072e-01, -2.19412589e-02,\n",
       "         0.00000000e+00,  0.00000000e+00,  0.00000000e+00],\n",
       "       [ 6.81967558e+00,  3.40983779e+00,  9.43032955e-01,\n",
       "         5.82214620e-01,  1.51996712e-01, -9.95276729e-01,\n",
       "         0.00000000e+00,  0.00000000e+00,  0.00000000e+00],\n",
       "       [ 2.30625468e+08,  1.15312734e+08,  2.00059568e+07,\n",
       "        -3.96802067e+06,  5.58656744e+06,  1.43804320e+06,\n",
       "         0.00000000e+00,  0.00000000e+00,  0.00000000e+00]])"
      ]
     },
     "execution_count": 372,
     "metadata": {},
     "output_type": "execute_result"
    }
   ],
   "source": [
    "M_t = M.T\n",
    "X = M_t - M_t.mean(0)\n",
    "xxt = np.dot(X, X.T) \n",
    "\n",
    "eigenValues, eigenVectors = np.linalg.eig(xxt)\n",
    "\n",
    "idx = eigenValues.argsort()[::-1] \n",
    "eigvals = eigenValues[idx]\n",
    "eigvectors = eigenVectors[:,idx]\n",
    "\n",
    "eigvecs = np.array([(1/((4*eigvals[i]) ** 0.5))*(np.dot((X.T), eigvectors[i])) for i in range(5)])\n",
    "\n",
    "eigvecs"
   ]
  },
  {
   "cell_type": "code",
   "execution_count": 373,
   "metadata": {},
   "outputs": [
    {
     "data": {
      "text/plain": [
       "array([3.14354771e+02, 2.78870012e+00, 1.12867245e+00, 2.27855987e-01,\n",
       "       1.76518335e-14, 1.51925502e-16, 0.00000000e+00, 0.00000000e+00,\n",
       "       0.00000000e+00])"
      ]
     },
     "execution_count": 373,
     "metadata": {},
     "output_type": "execute_result"
    }
   ],
   "source": [
    "eigvals0"
   ]
  },
  {
   "cell_type": "code",
   "execution_count": 374,
   "metadata": {},
   "outputs": [
    {
     "data": {
      "text/plain": [
       "array([1.25741909e+03, 1.11548005e+01, 4.51468979e+00, 9.11423948e-01,\n",
       "       1.35137766e-14])"
      ]
     },
     "execution_count": 374,
     "metadata": {},
     "output_type": "execute_result"
    }
   ],
   "source": [
    "eigvals"
   ]
  },
  {
   "cell_type": "code",
   "execution_count": 375,
   "metadata": {},
   "outputs": [
    {
     "data": {
      "text/plain": [
       "array([4., 4., 4., 4.])"
      ]
     },
     "execution_count": 375,
     "metadata": {},
     "output_type": "execute_result"
    }
   ],
   "source": [
    "eigvals[:4] / eigvals0[:4]"
   ]
  },
  {
   "cell_type": "code",
   "execution_count": 376,
   "metadata": {},
   "outputs": [
    {
     "data": {
      "text/plain": [
       "(5, 9)"
      ]
     },
     "execution_count": 376,
     "metadata": {},
     "output_type": "execute_result"
    }
   ],
   "source": [
    "X.shape"
   ]
  },
  {
   "cell_type": "code",
   "execution_count": 377,
   "metadata": {},
   "outputs": [
    {
     "data": {
      "text/plain": [
       "array([[ 5.012e+02,  2.510e+02,  4.000e-01, -2.506e+02, -5.020e+02],\n",
       "       [ 2.510e+02,  1.268e+02,  2.000e-01, -1.258e+02, -2.522e+02],\n",
       "       [ 4.000e-01,  2.000e-01,  3.600e+00, -1.400e+00, -2.800e+00],\n",
       "       [-2.506e+02, -1.258e+02, -1.400e+00,  1.316e+02,  2.462e+02],\n",
       "       [-5.020e+02, -2.522e+02, -2.800e+00,  2.462e+02,  5.108e+02]])"
      ]
     },
     "execution_count": 377,
     "metadata": {},
     "output_type": "execute_result"
    }
   ],
   "source": [
    "xxt"
   ]
  },
  {
   "cell_type": "code",
   "execution_count": 378,
   "metadata": {},
   "outputs": [
    {
     "data": {
      "text/plain": [
       "array([[-20. , -10. ,  -0.8,  -0.2,  -0.4,  -0.6,   0. ,   0. ,   0. ],\n",
       "       [-10. ,  -5. ,  -0.8,   0.8,  -0.4,  -0.6,   0. ,   0. ,   0. ],\n",
       "       [  0. ,   0. ,  -0.8,  -0.2,   1.6,  -0.6,   0. ,   0. ,   0. ],\n",
       "       [ 10. ,   5. ,  -0.8,  -0.2,  -0.4,   2.4,   0. ,   0. ,   0. ],\n",
       "       [ 20. ,  10. ,   3.2,  -0.2,  -0.4,  -0.6,   0. ,   0. ,   0. ]])"
      ]
     },
     "execution_count": 378,
     "metadata": {},
     "output_type": "execute_result"
    }
   ],
   "source": [
    "X"
   ]
  },
  {
   "cell_type": "code",
   "execution_count": null,
   "metadata": {},
   "outputs": [],
   "source": []
  }
 ],
 "metadata": {
  "kernelspec": {
   "display_name": "Python 3",
   "language": "python",
   "name": "python3"
  },
  "language_info": {
   "codemirror_mode": {
    "name": "ipython",
    "version": 3
   },
   "file_extension": ".py",
   "mimetype": "text/x-python",
   "name": "python",
   "nbconvert_exporter": "python",
   "pygments_lexer": "ipython3",
   "version": "3.7.6"
  }
 },
 "nbformat": 4,
 "nbformat_minor": 4
}
